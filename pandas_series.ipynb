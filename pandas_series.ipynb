{
  "nbformat": 4,
  "nbformat_minor": 0,
  "metadata": {
    "colab": {
      "name": "pandas_series",
      "provenance": [],
      "collapsed_sections": [],
      "authorship_tag": "ABX9TyOh1/ZlJm5tWq0tOrkNfbd6",
      "include_colab_link": true
    },
    "kernelspec": {
      "name": "python3",
      "display_name": "Python 3"
    }
  },
  "cells": [
    {
      "cell_type": "markdown",
      "metadata": {
        "id": "view-in-github",
        "colab_type": "text"
      },
      "source": [
        "<a href=\"https://colab.research.google.com/github/vignanbandi/padhai_data_science/blob/master/pandas_series.ipynb\" target=\"_parent\"><img src=\"https://colab.research.google.com/assets/colab-badge.svg\" alt=\"Open In Colab\"/></a>"
      ]
    },
    {
      "cell_type": "code",
      "metadata": {
        "id": "DoH38lUyPX_q",
        "colab_type": "code",
        "colab": {}
      },
      "source": [
        "import pandas as pd\n",
        "import numpy as np"
      ],
      "execution_count": null,
      "outputs": []
    },
    {
      "cell_type": "markdown",
      "metadata": {
        "id": "kweY-O2BQI6D",
        "colab_type": "text"
      },
      "source": [
        "# Creating Series Object\n",
        "\n",
        "##Questions:\n",
        "1. What is pandas series object\n",
        "   \n",
        "   pandas series object is an one dimension array with indexes, the main   difference between numpy array and padas series is indexing.\n",
        "\n",
        "\n"
      ]
    },
    {
      "cell_type": "code",
      "metadata": {
        "id": "adcOLYazQmZS",
        "colab_type": "code",
        "colab": {}
      },
      "source": [
        "series_with_list = pd.Series([1,2,3])\n",
        "series_with_tuple = pd.Series((2,3,4))\n",
        "series_with_dict = pd.Series({'library': 'pandas', 'language': 'python', 'version':3.6})\n",
        "series_with_str = pd.Series('pandas basics')"
      ],
      "execution_count": null,
      "outputs": []
    },
    {
      "cell_type": "code",
      "metadata": {
        "id": "g9Ls06qwdx-x",
        "colab_type": "code",
        "colab": {
          "base_uri": "https://localhost:8080/",
          "height": 255
        },
        "outputId": "7b213f83-3eb8-42b2-e9d7-fb190c1f18dd"
      },
      "source": [
        "print(series_with_list)\n",
        "print(series_with_tuple)\n",
        "print(series_with_dict)\n",
        "print(series_with_str)"
      ],
      "execution_count": null,
      "outputs": [
        {
          "output_type": "stream",
          "text": [
            "0    1\n",
            "1    2\n",
            "2    3\n",
            "dtype: int64\n",
            "0    2\n",
            "1    3\n",
            "2    4\n",
            "dtype: int64\n",
            "library     pandas\n",
            "language    python\n",
            "version        3.6\n",
            "dtype: object\n",
            "0    pandas basics\n",
            "dtype: object\n"
          ],
          "name": "stdout"
        }
      ]
    },
    {
      "cell_type": "code",
      "metadata": {
        "id": "z0oBpV0xeESX",
        "colab_type": "code",
        "colab": {
          "base_uri": "https://localhost:8080/",
          "height": 85
        },
        "outputId": "b52da13a-825c-4fdc-b57b-df49c5b94e77"
      },
      "source": [
        "# Series with indexing\n",
        "series = pd.Series([10, 20, 30], index=(0,1,2))\n",
        "series"
      ],
      "execution_count": null,
      "outputs": [
        {
          "output_type": "execute_result",
          "data": {
            "text/plain": [
              "0    10\n",
              "1    20\n",
              "2    30\n",
              "dtype: int64"
            ]
          },
          "metadata": {
            "tags": []
          },
          "execution_count": 14
        }
      ]
    },
    {
      "cell_type": "code",
      "metadata": {
        "id": "H4CYd0jxiGTS",
        "colab_type": "code",
        "colab": {}
      },
      "source": [
        "# If you dont supply index values equal to input data length then u will get a value error\n",
        "series = pd.Series([10, 20, 30], index=(0,1))"
      ],
      "execution_count": null,
      "outputs": []
    },
    {
      "cell_type": "code",
      "metadata": {
        "id": "fq7oY_DYiVvd",
        "colab_type": "code",
        "colab": {
          "base_uri": "https://localhost:8080/",
          "height": 34
        },
        "outputId": "8fc45ad7-4d54-4e38-d113-a67aabd9554b"
      },
      "source": [
        "series = pd.Series({'name': 'vignan', 'age': 30, 'company': 'cdk', 'trash': 'I dont want to see this key value pair'}, index=('name', 'age', 'company'))\n",
        "series"
      ],
      "execution_count": null,
      "outputs": [
        {
          "output_type": "execute_result",
          "data": {
            "text/plain": [
              "pandas.core.series.Series"
            ]
          },
          "metadata": {
            "tags": []
          },
          "execution_count": 8
        }
      ]
    },
    {
      "cell_type": "code",
      "metadata": {
        "id": "lurZVwzkpnLv",
        "colab_type": "code",
        "colab": {
          "base_uri": "https://localhost:8080/",
          "height": 493
        },
        "outputId": "868a3014-d441-4c47-daba-a81d7e14e704"
      },
      "source": [
        "int_series = pd.Series([10, 20, 30, 40, 50, 60, 70, 80, 90, 100])\n",
        "\n",
        "# You can iterate over values like you do with normal iterator\n",
        "for item in int_series:\n",
        "    print(item)\n",
        "\n",
        "# Lets try and iterate over dictionary just like any other iterator\n",
        "dict_series = pd.Series({'name': 'vignan', 'age': 30, 'company': 'cdk', 'trash': 'I dont want to see this key value pair'}, index=('name', 'age', 'company'))\n",
        "for item in dict_series:\n",
        "    print(item)\n",
        "\n",
        "\n",
        "print(\"Print all the indexes\", dict_series.index)\n",
        "print(\"Print all the values\", dict_series.values)\n",
        "\n",
        "# Accessing elements in the series\n",
        "print(\"name is = \", dict_series['name'])\n",
        "print(\"age is = \", dict_series.age)\n",
        "print(\"Trying to access non existent element\", dict_series.get('trash'))\n",
        "print(\"First element of the list\", int_series[0])\n",
        "print(\"First 2 elements of the list\", int_series[0:2])\n",
        "\n",
        "# By default head prints first 5 elements of the series\n",
        "print(\"first n elements of the series\", int_series.head())\n",
        "\n",
        "\n",
        "\n"
      ],
      "execution_count": null,
      "outputs": [
        {
          "output_type": "stream",
          "text": [
            "10\n",
            "20\n",
            "30\n",
            "40\n",
            "50\n",
            "60\n",
            "70\n",
            "80\n",
            "90\n",
            "100\n",
            "vignan\n",
            "30\n",
            "cdk\n",
            "Print all the indexes Index(['name', 'age', 'company'], dtype='object')\n",
            "Print all the values ['vignan' 30 'cdk']\n",
            "name is =  vignan\n",
            "age is =  30\n",
            "Trying to access non existent element None\n",
            "First element of the list 10\n",
            "First 2 elements of the list 0    10\n",
            "1    20\n",
            "dtype: int64\n",
            "first n elements of the series 0    10\n",
            "1    20\n",
            "2    30\n",
            "3    40\n",
            "4    50\n",
            "dtype: int64\n"
          ],
          "name": "stdout"
        }
      ]
    },
    {
      "cell_type": "markdown",
      "metadata": {
        "id": "d7Lios00yKXt",
        "colab_type": "text"
      },
      "source": [
        "# loc and iloc\n",
        "#### In the previous section we have accessed series elements using indexes we should avoid using [] to acess elements becuse sometimes you start the index with some random number of your choice and by practice u access the first element by 0 and it returns the error.\n",
        "\n",
        "#### To avoid the confusion pandas series object has two function loc & iloc,\n",
        "loc is used for accessing elements with explicit index that we have defined where as iloc used default implicit index. "
      ]
    },
    {
      "cell_type": "code",
      "metadata": {
        "id": "JOA-YwNiu3t3",
        "colab_type": "code",
        "colab": {}
      },
      "source": [
        "series = pd.Series([0, 1, 2, 3, 4, 5], index=(1, 2, 3, 4, 5, 6))"
      ],
      "execution_count": null,
      "outputs": []
    },
    {
      "cell_type": "code",
      "metadata": {
        "id": "pfDjgGea0EgH",
        "colab_type": "code",
        "colab": {
          "base_uri": "https://localhost:8080/",
          "height": 136
        },
        "outputId": "b046b308-665a-46ff-fdd4-62e5af8c7663"
      },
      "source": [
        "print(series)"
      ],
      "execution_count": null,
      "outputs": [
        {
          "output_type": "stream",
          "text": [
            "1    0\n",
            "2    1\n",
            "3    2\n",
            "4    3\n",
            "5    4\n",
            "6    5\n",
            "dtype: int64\n"
          ],
          "name": "stdout"
        }
      ]
    },
    {
      "cell_type": "code",
      "metadata": {
        "id": "g3IdBNPR0JCE",
        "colab_type": "code",
        "colab": {
          "base_uri": "https://localhost:8080/",
          "height": 51
        },
        "outputId": "94e5f294-2f06-4d58-97b0-b3db771f7db1"
      },
      "source": [
        "# loc uses explicit index\n",
        "\n",
        "# To access first element \n",
        "print(series.loc[1])\n",
        "print(series.iloc[0])"
      ],
      "execution_count": null,
      "outputs": [
        {
          "output_type": "stream",
          "text": [
            "0\n",
            "0\n"
          ],
          "name": "stdout"
        }
      ]
    },
    {
      "cell_type": "code",
      "metadata": {
        "id": "X7s8zoTi0Zij",
        "colab_type": "code",
        "colab": {
          "base_uri": "https://localhost:8080/",
          "height": 136
        },
        "outputId": "5fd674a1-6fce-4530-d82e-f4a35d4f929a"
      },
      "source": [
        "# get elements from 0 - 8\n",
        "series.loc[0:9]"
      ],
      "execution_count": null,
      "outputs": [
        {
          "output_type": "execute_result",
          "data": {
            "text/plain": [
              "1    0\n",
              "2    1\n",
              "3    2\n",
              "4    3\n",
              "5    4\n",
              "6    5\n",
              "dtype: int64"
            ]
          },
          "metadata": {
            "tags": []
          },
          "execution_count": 47
        }
      ]
    },
    {
      "cell_type": "code",
      "metadata": {
        "id": "Qm4kTbAQ0vao",
        "colab_type": "code",
        "colab": {
          "base_uri": "https://localhost:8080/",
          "height": 119
        },
        "outputId": "b282922a-af8f-4d4c-c6d2-d34b392c34ad"
      },
      "source": [
        "# get elements from 0 to 4\n",
        "series.iloc[0:5]"
      ],
      "execution_count": null,
      "outputs": [
        {
          "output_type": "execute_result",
          "data": {
            "text/plain": [
              "1    0\n",
              "2    1\n",
              "3    2\n",
              "4    3\n",
              "5    4\n",
              "dtype: int64"
            ]
          },
          "metadata": {
            "tags": []
          },
          "execution_count": 49
        }
      ]
    },
    {
      "cell_type": "code",
      "metadata": {
        "id": "3Z4_h4DX05E3",
        "colab_type": "code",
        "colab": {}
      },
      "source": [
        "dict_series = pd.Series({'name': 'vignan', 'age': 30, 'company': 'cdk'})\n"
      ],
      "execution_count": null,
      "outputs": []
    },
    {
      "cell_type": "code",
      "metadata": {
        "id": "IlL8jhfL1EIt",
        "colab_type": "code",
        "colab": {
          "base_uri": "https://localhost:8080/",
          "height": 153
        },
        "outputId": "462384ab-114e-490c-be10-7af0fe3f75bb"
      },
      "source": [
        "print(dict_series.loc['name'])\n",
        "print(dict_series.iloc[0])\n",
        "# In doing slicing in loc upper limit is also included\n",
        "print(dict_series.loc['name': 'company'])\n",
        "print(dict_series.iloc[0:1])"
      ],
      "execution_count": null,
      "outputs": [
        {
          "output_type": "stream",
          "text": [
            "vignan\n",
            "vignan\n",
            "name       vignan\n",
            "age            30\n",
            "company       cdk\n",
            "dtype: object\n",
            "name    vignan\n",
            "dtype: object\n"
          ],
          "name": "stdout"
        }
      ]
    },
    {
      "cell_type": "markdown",
      "metadata": {
        "id": "nR9-lmDE2IeK",
        "colab_type": "text"
      },
      "source": [
        "# Operations"
      ]
    },
    {
      "cell_type": "code",
      "metadata": {
        "id": "tdZBKX2e2R10",
        "colab_type": "code",
        "colab": {}
      },
      "source": [
        "mass = pd.Series([0.33, 4.87, 5.97, 0.642, 1898, 568, 86.8, 102, 0.0146], \n",
        "                 index=['Mercury', 'Venus', 'Earth', 'Mars', 'Jupiter', 'Saturn', 'Uranus', 'Neptune', 'Pluto'])"
      ],
      "execution_count": 57,
      "outputs": []
    },
    {
      "cell_type": "code",
      "metadata": {
        "id": "vjgn3twQ-zxz",
        "colab_type": "code",
        "colab": {
          "base_uri": "https://localhost:8080/",
          "height": 187
        },
        "outputId": "8612bf06-2958-4687-cff8-77da63ffea77"
      },
      "source": [
        "mass"
      ],
      "execution_count": 60,
      "outputs": [
        {
          "output_type": "execute_result",
          "data": {
            "text/plain": [
              "Mercury       0.3300\n",
              "Venus         4.8700\n",
              "Earth         5.9700\n",
              "Mars          0.6420\n",
              "Jupiter    1898.0000\n",
              "Saturn      568.0000\n",
              "Uranus       86.8000\n",
              "Neptune     102.0000\n",
              "Pluto         0.0146\n",
              "dtype: float64"
            ]
          },
          "metadata": {
            "tags": []
          },
          "execution_count": 60
        }
      ]
    },
    {
      "cell_type": "code",
      "metadata": {
        "id": "FMpvbrJi-3BP",
        "colab_type": "code",
        "colab": {
          "base_uri": "https://localhost:8080/",
          "height": 85
        },
        "outputId": "8c888a3e-51a9-4c59-afbf-747a0521d0b3"
      },
      "source": [
        "# You can do operations like filter all the planets whose mass is grater than 100\n",
        "mass[mass > 100]"
      ],
      "execution_count": 62,
      "outputs": [
        {
          "output_type": "execute_result",
          "data": {
            "text/plain": [
              "Jupiter    1898.0\n",
              "Saturn      568.0\n",
              "Neptune     102.0\n",
              "dtype: float64"
            ]
          },
          "metadata": {
            "tags": []
          },
          "execution_count": 62
        }
      ]
    },
    {
      "cell_type": "code",
      "metadata": {
        "id": "9i0bD7BD_CBu",
        "colab_type": "code",
        "colab": {
          "base_uri": "https://localhost:8080/",
          "height": 68
        },
        "outputId": "cd2a5241-600d-4736-ac72-fc0f1241757c"
      },
      "source": [
        "mass[(mass > 100) & (mass < 600)]"
      ],
      "execution_count": 64,
      "outputs": [
        {
          "output_type": "execute_result",
          "data": {
            "text/plain": [
              "Saturn     568.0\n",
              "Neptune    102.0\n",
              "dtype: float64"
            ]
          },
          "metadata": {
            "tags": []
          },
          "execution_count": 64
        }
      ]
    },
    {
      "cell_type": "code",
      "metadata": {
        "id": "l7TcLruD_NVF",
        "colab_type": "code",
        "colab": {
          "base_uri": "https://localhost:8080/",
          "height": 187
        },
        "outputId": "922cf457-6004-4c84-8626-2fcdbce48b86"
      },
      "source": [
        "mass + mass\n"
      ],
      "execution_count": 66,
      "outputs": [
        {
          "output_type": "execute_result",
          "data": {
            "text/plain": [
              "Mercury       0.6600\n",
              "Venus         9.7400\n",
              "Earth        11.9400\n",
              "Mars          1.2840\n",
              "Jupiter    3796.0000\n",
              "Saturn     1136.0000\n",
              "Uranus      173.6000\n",
              "Neptune     204.0000\n",
              "Pluto         0.0292\n",
              "dtype: float64"
            ]
          },
          "metadata": {
            "tags": []
          },
          "execution_count": 66
        }
      ]
    },
    {
      "cell_type": "code",
      "metadata": {
        "id": "_dgIFa2A_QMd",
        "colab_type": "code",
        "colab": {
          "base_uri": "https://localhost:8080/",
          "height": 187
        },
        "outputId": "e1cce065-ce28-436b-fe1b-6f32aec35d7a"
      },
      "source": [
        "mass * mass"
      ],
      "execution_count": 67,
      "outputs": [
        {
          "output_type": "execute_result",
          "data": {
            "text/plain": [
              "Mercury    1.089000e-01\n",
              "Venus      2.371690e+01\n",
              "Earth      3.564090e+01\n",
              "Mars       4.121640e-01\n",
              "Jupiter    3.602404e+06\n",
              "Saturn     3.226240e+05\n",
              "Uranus     7.534240e+03\n",
              "Neptune    1.040400e+04\n",
              "Pluto      2.131600e-04\n",
              "dtype: float64"
            ]
          },
          "metadata": {
            "tags": []
          },
          "execution_count": 67
        }
      ]
    },
    {
      "cell_type": "code",
      "metadata": {
        "id": "zgPIWhIn_RsL",
        "colab_type": "code",
        "colab": {
          "base_uri": "https://localhost:8080/",
          "height": 187
        },
        "outputId": "a356773a-e17d-489e-8b90-600ee7a8cbf1"
      },
      "source": [
        "mass - mass"
      ],
      "execution_count": 68,
      "outputs": [
        {
          "output_type": "execute_result",
          "data": {
            "text/plain": [
              "Mercury    0.0\n",
              "Venus      0.0\n",
              "Earth      0.0\n",
              "Mars       0.0\n",
              "Jupiter    0.0\n",
              "Saturn     0.0\n",
              "Uranus     0.0\n",
              "Neptune    0.0\n",
              "Pluto      0.0\n",
              "dtype: float64"
            ]
          },
          "metadata": {
            "tags": []
          },
          "execution_count": 68
        }
      ]
    },
    {
      "cell_type": "code",
      "metadata": {
        "id": "BK5kzZcJ_VQK",
        "colab_type": "code",
        "colab": {}
      },
      "source": [
        "big_mass = mass[mass > 100]"
      ],
      "execution_count": 70,
      "outputs": []
    },
    {
      "cell_type": "code",
      "metadata": {
        "id": "9_5kVnJA_axZ",
        "colab_type": "code",
        "colab": {
          "base_uri": "https://localhost:8080/",
          "height": 85
        },
        "outputId": "c3c1957e-92df-489a-e7ba-7e9ad6b81bdc"
      },
      "source": [
        "big_mass"
      ],
      "execution_count": 71,
      "outputs": [
        {
          "output_type": "execute_result",
          "data": {
            "text/plain": [
              "Jupiter    1898.0\n",
              "Saturn      568.0\n",
              "Neptune     102.0\n",
              "dtype: float64"
            ]
          },
          "metadata": {
            "tags": []
          },
          "execution_count": 71
        }
      ]
    },
    {
      "cell_type": "code",
      "metadata": {
        "id": "QL3vlsyb_cSK",
        "colab_type": "code",
        "colab": {
          "base_uri": "https://localhost:8080/",
          "height": 187
        },
        "outputId": "32b88864-137a-4594-e32c-f47a257fd7df"
      },
      "source": [
        "result = mass + big_mass\n",
        "print(result)"
      ],
      "execution_count": 76,
      "outputs": [
        {
          "output_type": "stream",
          "text": [
            "Earth         NaN\n",
            "Jupiter    3796.0\n",
            "Mars          NaN\n",
            "Mercury       NaN\n",
            "Neptune     204.0\n",
            "Pluto         NaN\n",
            "Saturn     1136.0\n",
            "Uranus        NaN\n",
            "Venus         NaN\n",
            "dtype: float64\n"
          ],
          "name": "stdout"
        }
      ]
    },
    {
      "cell_type": "code",
      "metadata": {
        "id": "BrapUZrt_ez6",
        "colab_type": "code",
        "colab": {
          "base_uri": "https://localhost:8080/",
          "height": 187
        },
        "outputId": "f75b641c-2e78-417d-a2ee-a6a9c7671501"
      },
      "source": [
        "result.isnull()"
      ],
      "execution_count": 77,
      "outputs": [
        {
          "output_type": "execute_result",
          "data": {
            "text/plain": [
              "Earth       True\n",
              "Jupiter    False\n",
              "Mars        True\n",
              "Mercury     True\n",
              "Neptune    False\n",
              "Pluto       True\n",
              "Saturn     False\n",
              "Uranus      True\n",
              "Venus       True\n",
              "dtype: bool"
            ]
          },
          "metadata": {
            "tags": []
          },
          "execution_count": 77
        }
      ]
    },
    {
      "cell_type": "code",
      "metadata": {
        "id": "SkXMtHOU_x6A",
        "colab_type": "code",
        "colab": {}
      },
      "source": [
        "mass"
      ],
      "execution_count": null,
      "outputs": []
    },
    {
      "cell_type": "code",
      "metadata": {
        "id": "AePnD5Nt_v_4",
        "colab_type": "code",
        "colab": {}
      },
      "source": [
        ""
      ],
      "execution_count": null,
      "outputs": []
    }
  ]
}