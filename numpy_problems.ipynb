{
  "nbformat": 4,
  "nbformat_minor": 0,
  "metadata": {
    "colab": {
      "name": "numpy_problems.ipynb",
      "provenance": [],
      "collapsed_sections": [],
      "toc_visible": true,
      "mount_file_id": "1pV4lgT82t6DUfbaU_7aFMS4WorNKY9GP",
      "authorship_tag": "ABX9TyMU3Ve0dFejfBXDsOA+3duT",
      "include_colab_link": true
    },
    "kernelspec": {
      "name": "python3",
      "display_name": "Python 3"
    }
  },
  "cells": [
    {
      "cell_type": "markdown",
      "metadata": {
        "id": "view-in-github",
        "colab_type": "text"
      },
      "source": [
        "<a href=\"https://colab.research.google.com/github/vignanbandi/padhai_data_science/blob/master/numpy_problems.ipynb\" target=\"_parent\"><img src=\"https://colab.research.google.com/assets/colab-badge.svg\" alt=\"Open In Colab\"/></a>"
      ]
    },
    {
      "cell_type": "code",
      "metadata": {
        "id": "Ijn9fZXkCUcU",
        "colab_type": "code",
        "colab": {}
      },
      "source": [
        "import numpy as np"
      ],
      "execution_count": 0,
      "outputs": []
    },
    {
      "cell_type": "code",
      "metadata": {
        "id": "4OHTl-jrR_8R",
        "colab_type": "code",
        "colab": {}
      },
      "source": [
        "cric_data = np.loadtxt('cric_data-200320-181217.tsv', skiprows=1, usecols=(1,2,3))"
      ],
      "execution_count": 0,
      "outputs": []
    },
    {
      "cell_type": "markdown",
      "metadata": {
        "id": "-PB10x9ITLA4",
        "colab_type": "text"
      },
      "source": [
        "# Question -1\n",
        "# Find Mean, Median, IQR for Sachin, Rahul, India"
      ]
    },
    {
      "cell_type": "markdown",
      "metadata": {
        "id": "4-IbnAq8WKyG",
        "colab_type": "text"
      },
      "source": [
        "## Calculate Mean"
      ]
    },
    {
      "cell_type": "code",
      "metadata": {
        "id": "YDrLR2CZTDcS",
        "colab_type": "code",
        "outputId": "7c7599de-1e15-427a-9771-de0dc7b807a7",
        "colab": {
          "base_uri": "https://localhost:8080/",
          "height": 34
        }
      },
      "source": [
        "# axis = 0 calculates along columns i.e for each cloumn calculates the mean for row\n",
        "# (typical Y axis or columns avg in 2d array)\n",
        "cric_data_means = np.mean(cric_data, axis=0)\n",
        "sachin_mean, rahul_mean, india_mean = cric_data_means\n",
        "print(sachin_mean, rahul_mean, india_mean)"
      ],
      "execution_count": 0,
      "outputs": [
        {
          "output_type": "stream",
          "text": [
            "39.87555555555556 32.062222222222225 220.79555555555555\n"
          ],
          "name": "stdout"
        }
      ]
    },
    {
      "cell_type": "markdown",
      "metadata": {
        "id": "UhwjLhe8WQKt",
        "colab_type": "text"
      },
      "source": [
        "## Calculate Median"
      ]
    },
    {
      "cell_type": "code",
      "metadata": {
        "id": "WWAfMOUzWH2c",
        "colab_type": "code",
        "outputId": "407cfd34-e751-4f8a-fc40-0d4f65b12d97",
        "colab": {
          "base_uri": "https://localhost:8080/",
          "height": 34
        }
      },
      "source": [
        "cric_data_median = np.median(cric_data, axis=0)\n",
        "sachin_median, rahul_median, india_median = cric_data_median\n",
        "print(sachin_median, rahul_median, india_median)"
      ],
      "execution_count": 0,
      "outputs": [
        {
          "output_type": "stream",
          "text": [
            "27.0 22.0 216.0\n"
          ],
          "name": "stdout"
        }
      ]
    },
    {
      "cell_type": "markdown",
      "metadata": {
        "id": "6Fn8X_o6W3I-",
        "colab_type": "text"
      },
      "source": [
        "## Calculate IQR"
      ]
    },
    {
      "cell_type": "code",
      "metadata": {
        "id": "Y2MK4OTLW-E_",
        "colab_type": "code",
        "outputId": "59909732-aef3-4d11-9d60-6f47749ac3a2",
        "colab": {
          "base_uri": "https://localhost:8080/",
          "height": 68
        }
      },
      "source": [
        "cric_iqrs = np.percentile(cric_data, (25, 75), axis=0)\n",
        "print(cric_iqrs)\n",
        "cric_iqrs[1] - cric_iqrs[0]"
      ],
      "execution_count": 25,
      "outputs": [
        {
          "output_type": "stream",
          "text": [
            "[[  6.   7. 175.]\n",
            " [ 63.  53. 273.]]\n"
          ],
          "name": "stdout"
        },
        {
          "output_type": "execute_result",
          "data": {
            "text/plain": [
              "array([57., 46., 98.])"
            ]
          },
          "metadata": {
            "tags": []
          },
          "execution_count": 25
        }
      ]
    },
    {
      "cell_type": "markdown",
      "metadata": {
        "id": "e7ceNsbFYTIN",
        "colab_type": "text"
      },
      "source": [
        "# Q2 - Find histogram of sachin's score with 10 bins\n"
      ]
    },
    {
      "cell_type": "code",
      "metadata": {
        "id": "z1T1ZksuYaa3",
        "colab_type": "code",
        "outputId": "f82fd76b-66ab-4773-d534-95e73e1997e1",
        "colab": {
          "base_uri": "https://localhost:8080/",
          "height": 68
        }
      },
      "source": [
        "# while indexing 2d array first index is row, second index is column\n",
        "np.histogram(cric_data[:, 0], bins=10)"
      ],
      "execution_count": 0,
      "outputs": [
        {
          "output_type": "execute_result",
          "data": {
            "text/plain": [
              "(array([99, 36, 28, 16, 11, 17,  8,  8,  1,  1]),\n",
              " array([  0. ,  18.6,  37.2,  55.8,  74.4,  93. , 111.6, 130.2, 148.8,\n",
              "        167.4, 186. ]))"
            ]
          },
          "metadata": {
            "tags": []
          },
          "execution_count": 21
        }
      ]
    },
    {
      "cell_type": "markdown",
      "metadata": {
        "id": "UMmQdj44Zjo2",
        "colab_type": "text"
      },
      "source": [
        "# Q3 - Find the mean of sachin's score grouped by 25 matches"
      ]
    },
    {
      "cell_type": "code",
      "metadata": {
        "id": "R0mQQNree13i",
        "colab_type": "code",
        "colab": {
          "base_uri": "https://localhost:8080/",
          "height": 34
        },
        "outputId": "18ccce77-f919-45b3-e07e-64895cb51851"
      },
      "source": [
        "len( cric_data[:, 0])/25"
      ],
      "execution_count": 28,
      "outputs": [
        {
          "output_type": "execute_result",
          "data": {
            "text/plain": [
              "9.0"
            ]
          },
          "metadata": {
            "tags": []
          },
          "execution_count": 28
        }
      ]
    },
    {
      "cell_type": "code",
      "metadata": {
        "id": "m7D4G2bnZwcx",
        "colab_type": "code",
        "colab": {
          "base_uri": "https://localhost:8080/",
          "height": 170
        },
        "outputId": "940447d5-b305-49bc-faad-f44422a52eb2"
      },
      "source": [
        "# Ineffient way of doing this\n",
        "sachins_scores = cric_data[:, 0]\n",
        "lower_index = 0\n",
        "for group in range(1, int(len(cric_data)/25 + 1)):\n",
        "    print(f\"Sachins mean in {group} 25 matches\", np.mean(sachins_scores[lower_index: group * 25]))\n",
        "    lower_index = group * 25"
      ],
      "execution_count": 31,
      "outputs": [
        {
          "output_type": "stream",
          "text": [
            "Sachins mean in 1 25 matches 33.96\n",
            "Sachins mean in 2 25 matches 49.4\n",
            "Sachins mean in 3 25 matches 38.48\n",
            "Sachins mean in 4 25 matches 40.16\n",
            "Sachins mean in 5 25 matches 39.36\n",
            "Sachins mean in 6 25 matches 38.2\n",
            "Sachins mean in 7 25 matches 44.6\n",
            "Sachins mean in 8 25 matches 39.52\n",
            "Sachins mean in 9 25 matches 35.2\n"
          ],
          "name": "stdout"
        }
      ]
    },
    {
      "cell_type": "code",
      "metadata": {
        "id": "RyrCrRQ0f5Zl",
        "colab_type": "code",
        "colab": {
          "base_uri": "https://localhost:8080/",
          "height": 34
        },
        "outputId": "c82ee236-c5ef-4670-adc6-e238f79cfcb7"
      },
      "source": [
        "# Efficient numpy way\n",
        "sachins_scores.shape\n",
        "grouped_scores = sachins_scores.reshape(9, 25)\n",
        "np.mean(grouped_scores, axis=1)\n"
      ],
      "execution_count": 35,
      "outputs": [
        {
          "output_type": "execute_result",
          "data": {
            "text/plain": [
              "array([33.96, 49.4 , 38.48, 40.16, 39.36, 38.2 , 44.6 , 39.52, 35.2 ])"
            ]
          },
          "metadata": {
            "tags": []
          },
          "execution_count": 35
        }
      ]
    }
  ]
}